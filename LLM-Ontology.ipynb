{
 "cells": [
  {
   "metadata": {
    "ExecuteTime": {
     "end_time": "2024-10-28T15:00:00.036749Z",
     "start_time": "2024-10-28T14:59:58.694885Z"
    }
   },
   "cell_type": "code",
   "source": [
    "import sys\n",
    "sys.getprofile()  # for linking sys\n",
    "!{sys.executable} -m pip install -qUr requirements.txt"
   ],
   "id": "248d8ac9-910d-4188-b84c-beb2a12d845e",
   "outputs": [],
   "execution_count": 1
  },
  {
   "metadata": {
    "ExecuteTime": {
     "end_time": "2024-10-28T15:00:00.607597Z",
     "start_time": "2024-10-28T15:00:00.040087Z"
    }
   },
   "cell_type": "code",
   "source": [
    "from langchain_openai import ChatOpenAI\n",
    "from langchain.schema import HumanMessage, SystemMessage, AIMessage\n",
    "from langchain_openai import OpenAIEmbeddings\n",
    "from package import OPENAI_API_KEY, set_environment_openai_api_key\n",
    "from package.utilities import get_file_contents\n",
    "set_environment_openai_api_key()\n",
    "\n",
    "chat = ChatOpenAI(model='gpt-4o', openai_api_key=OPENAI_API_KEY)\n",
    "orchestrator_prompt = get_file_contents('orchestrator-prompt.txt')\n",
    "entities = get_file_contents('entities.txt').splitlines()"
   ],
   "id": "ae357d85-58c2-4a60-899a-2322d372e4d8",
   "outputs": [],
   "execution_count": 2
  },
  {
   "cell_type": "code",
   "id": "f42cb4fd513e5cfd",
   "metadata": {
    "ExecuteTime": {
     "end_time": "2024-10-28T15:00:01.658903Z",
     "start_time": "2024-10-28T15:00:00.703986Z"
    }
   },
   "source": [
    "aiMessage: AIMessage = chat.invoke([\n",
    "    SystemMessage(content=orchestrator_prompt),\n",
    "    HumanMessage(content=\"The manager of chat-bot's project has been changed, now it's Ivan Petrov\")\n",
    "])\n",
    "candidates = [candidate.lstrip('0123456789.- ') for candidate in aiMessage.content.splitlines()]\n",
    "print(candidates)"
   ],
   "outputs": [
    {
     "name": "stdout",
     "output_type": "stream",
     "text": [
      "['manager', \"chat-bot's project\", 'Ivan Petrov']\n"
     ]
    }
   ],
   "execution_count": 3
  },
  {
   "metadata": {
    "ExecuteTime": {
     "end_time": "2024-10-28T15:00:04.208780Z",
     "start_time": "2024-10-28T15:00:01.663479Z"
    }
   },
   "cell_type": "code",
   "source": [
    "from langchain_community.vectorstores import FAISS\n",
    "\n",
    "embeddings = OpenAIEmbeddings(model='text-embedding-ada-002', headers={'x-api-key': OPENAI_API_KEY})\n",
    "retriever = FAISS.from_texts(entities, embeddings).as_retriever()\n",
    "for candidate in candidates:\n",
    "    print(candidate, ' -> ', retriever.invoke(candidate)[0].page_content)"
   ],
   "id": "ef4cda1d77aa0d13",
   "outputs": [
    {
     "name": "stdout",
     "output_type": "stream",
     "text": [
      "manager  ->  director\n",
      "chat-bot's project  ->  bot program\n",
      "Ivan Petrov  ->  person name\n"
     ]
    }
   ],
   "execution_count": 4
  },
  {
   "cell_type": "code",
   "id": "efaff76069552158",
   "metadata": {
    "ExecuteTime": {
     "end_time": "2024-10-28T15:00:06.380746Z",
     "start_time": "2024-10-28T15:00:04.213709Z"
    }
   },
   "source": [
    "from langchain_community.vectorstores import Neo4jVector\n",
    "\n",
    "title = 'title'\n",
    "\n",
    "embeddings2 = OpenAIEmbeddings(model='text-embedding-ada-002', headers={'x-api-key': OPENAI_API_KEY})\n",
    "vector_index = Neo4jVector.from_existing_graph(\n",
    "    embeddings2,\n",
    "    url='bolt://localhost:7687',\n",
    "    username='neo4j',\n",
    "    password='neo4j1234',\n",
    "    index_name='node_text_index_title',\n",
    "    node_label='Term',\n",
    "    text_node_properties=[title],\n",
    "    embedding_node_property='embedding',\n",
    ")\n",
    "for candidate in candidates:\n",
    "    response = vector_index.similarity_search(\n",
    "        f\"Which `Term` is nearest for `{candidate}`?\"\n",
    "    )\n",
    "    print(candidate, ' -> ', response[0].page_content.strip().removeprefix(f\"{title}: \"))"
   ],
   "outputs": [
    {
     "name": "stdout",
     "output_type": "stream",
     "text": [
      "manager  ->  person\n",
      "chat-bot's project  ->  bot program\n",
      "Ivan Petrov  ->  neutron star\n"
     ]
    }
   ],
   "execution_count": 5
  },
  {
   "metadata": {
    "ExecuteTime": {
     "end_time": "2024-10-28T15:00:06.397996Z",
     "start_time": "2024-10-28T15:00:06.386884Z"
    }
   },
   "cell_type": "code",
   "source": [
    "from uuid import uuid4\n",
    "from peewee import *\n",
    "\n",
    "db = SqliteDatabase('database.sqlite')\n",
    "\n",
    "class BaseModel(Model):\n",
    "    class Meta:\n",
    "        database = db\n",
    "        legacy_table_names = False\n",
    "\n",
    "class Entity(BaseModel):\n",
    "    id = UUIDField(primary_key=True, default=uuid4)\n",
    "    type = CharField()  # entity title from Neo4j\n",
    "    title = CharField()\n",
    "\n",
    "class Relation(BaseModel):\n",
    "    from_ = ForeignKeyField(Entity, backref='relations', db_column='from')\n",
    "    to = ForeignKeyField(Entity, backref='relations', db_column='to')\n",
    "    type = CharField()  # relation name from Neo4j\n",
    "\n",
    "    class Meta:\n",
    "        primary_key = CompositeKey('from_', 'to', 'type')\n",
    "\n",
    "db.connect(True)\n",
    "db.create_tables([Entity, Relation])\n",
    "Entity.create_table()\n",
    "# a = Entity.select().count()\n",
    "# print(a)    "
   ],
   "id": "1eb869e0ce26f3aa",
   "outputs": [],
   "execution_count": 6
  },
  {
   "metadata": {
    "ExecuteTime": {
     "end_time": "2024-10-28T15:00:06.406533Z",
     "start_time": "2024-10-28T15:00:06.404615Z"
    }
   },
   "cell_type": "code",
   "source": [
    "# Entity.create(title='New one', type='3db3c5bc-5431-425c-ae2a-00e4603a4578')\n",
    "# Entity.create(title='Old two', type='4db3c5bc-5431-425c-ae2a-00e4603a4578')\n",
    "# Relation.create(from_='3db3c5bc-5431-425c-ae2a-00e4603a4578', to='4db3c5bc-5431-425c-ae2a-00e4603a4578', type='Friend')\n",
    "# Relation.create(from_='4db3c5bc-5431-425c-ae2a-00e4603a4578', to='4db3c5bc-5431-425c-ae2a-00e4603a4578', type='Friend')"
   ],
   "id": "1e4c8216376fca4e",
   "outputs": [],
   "execution_count": 7
  },
  {
   "metadata": {
    "ExecuteTime": {
     "end_time": "2024-10-28T15:00:38.562310Z",
     "start_time": "2024-10-28T15:00:38.558831Z"
    }
   },
   "cell_type": "code",
   "source": [
    "from package.table_generator import *\n",
    "\n",
    "attach_table_generator(db)\n",
    "\n",
    "dataFoo = db.generate_table(Entity, 'foo1')\n",
    "dataBar = db.generate_table(Relation, 'bar2')\n"
   ],
   "id": "949295afcae0846e",
   "outputs": [],
   "execution_count": 11
  }
 ],
 "metadata": {
  "kernelspec": {
   "display_name": "Python 3 (ipykernel)",
   "language": "python",
   "name": "python3"
  },
  "language_info": {
   "codemirror_mode": {
    "name": "ipython",
    "version": 3
   },
   "file_extension": ".py",
   "mimetype": "text/x-python",
   "name": "python",
   "nbconvert_exporter": "python",
   "pygments_lexer": "ipython3",
   "version": "3.12.7"
  }
 },
 "nbformat": 4,
 "nbformat_minor": 5
}
