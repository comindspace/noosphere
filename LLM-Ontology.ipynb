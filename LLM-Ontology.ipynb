{
 "cells": [
  {
   "metadata": {
    "ExecuteTime": {
     "end_time": "2024-10-25T13:54:38.626153Z",
     "start_time": "2024-10-25T13:54:37.421285Z"
    }
   },
   "cell_type": "code",
   "source": [
    "import sys\n",
    "\n",
    "sys.api_version\n",
    "!{sys.executable} -m pip install -qUr requirements.txt"
   ],
   "id": "248d8ac9-910d-4188-b84c-beb2a12d845e",
   "outputs": [],
   "execution_count": 93
  },
  {
   "metadata": {
    "ExecuteTime": {
     "end_time": "2024-10-25T13:54:38.645740Z",
     "start_time": "2024-10-25T13:54:38.629934Z"
    }
   },
   "cell_type": "code",
   "source": [
    "from langchain_openai import ChatOpenAI\n",
    "from langchain.schema import HumanMessage, SystemMessage, AIMessage\n",
    "from langchain_openai import OpenAIEmbeddings\n",
    "from package import OPENAI_API_KEY, set_environment_openai_api_key\n",
    "from package.utilities import get_file_contents\n",
    "set_environment_openai_api_key()\n",
    "\n",
    "chat = ChatOpenAI(model='gpt-4o', openai_api_key=OPENAI_API_KEY)\n",
    "orchestrator_prompt = get_file_contents('orchestrator-prompt.txt')\n",
    "entities = get_file_contents('entities.txt').splitlines()"
   ],
   "id": "ae357d85-58c2-4a60-899a-2322d372e4d8",
   "outputs": [],
   "execution_count": 94
  },
  {
   "cell_type": "code",
   "id": "f42cb4fd513e5cfd",
   "metadata": {
    "ExecuteTime": {
     "end_time": "2024-10-25T13:54:39.609184Z",
     "start_time": "2024-10-25T13:54:38.650993Z"
    }
   },
   "source": [
    "aiMessage: AIMessage = chat.invoke([\n",
    "    SystemMessage(content=orchestrator_prompt),\n",
    "    HumanMessage(content=\"The manager of chat-bot's project has been changed, now it's Ivan Petrov\")\n",
    "])\n",
    "candidates = [candidate.lstrip('0123456789.- ') for candidate in aiMessage.content.splitlines()]\n",
    "print(candidates)"
   ],
   "outputs": [
    {
     "name": "stdout",
     "output_type": "stream",
     "text": [
      "['Manager', 'Chat-bot', 'Project', 'Ivan Petrov']\n"
     ]
    }
   ],
   "execution_count": 95
  },
  {
   "metadata": {
    "ExecuteTime": {
     "end_time": "2024-10-25T13:54:43.091195Z",
     "start_time": "2024-10-25T13:54:39.616378Z"
    }
   },
   "cell_type": "code",
   "source": [
    "from langchain_community.vectorstores import FAISS\n",
    "\n",
    "embeddings = OpenAIEmbeddings(model='text-embedding-ada-002', headers={'x-api-key': OPENAI_API_KEY})\n",
    "retriever = FAISS.from_texts(entities, embeddings).as_retriever()\n",
    "for candidate in candidates:\n",
    "    print(candidate, ' -> ', retriever.invoke(candidate)[0].page_content)"
   ],
   "id": "ef4cda1d77aa0d13",
   "outputs": [
    {
     "name": "stdout",
     "output_type": "stream",
     "text": [
      "Manager  ->  employee\n",
      "Chat-bot  ->  bot program\n",
      "Project  ->  project\n",
      "Ivan Petrov  ->  director\n"
     ]
    }
   ],
   "execution_count": 96
  },
  {
   "cell_type": "code",
   "id": "efaff76069552158",
   "metadata": {
    "ExecuteTime": {
     "end_time": "2024-10-25T13:55:43.418849Z",
     "start_time": "2024-10-25T13:55:42.705937Z"
    }
   },
   "source": [
    "from langchain_community.vectorstores import Neo4jVector\n",
    "\n",
    "title = 'title'\n",
    "\n",
    "embeddings2 = OpenAIEmbeddings(model='text-embedding-ada-002', headers={'x-api-key': OPENAI_API_KEY})\n",
    "vector_index = Neo4jVector.from_existing_graph(\n",
    "    embeddings2,\n",
    "    url='bolt://localhost:7687',\n",
    "    username='neo4j',\n",
    "    password='neo4j1234',\n",
    "    index_name='node_text_index_title',\n",
    "    node_label='Term',\n",
    "    text_node_properties=[title],\n",
    "    embedding_node_property='embedding',\n",
    ")\n",
    "for candidate in candidates:\n",
    "    response = vector_index.similarity_search(\n",
    "        f\"Which `Term` is nearest for `{candidate}`?\"\n",
    "    )\n",
    "    print(candidate, ' -> ', response[0].page_content.strip().removeprefix(f\"{title}: \"))"
   ],
   "outputs": [
    {
     "ename": "ValueError",
     "evalue": "Index with name vector already exists.The provided embedding function and vector index dimensions do not match.\nEmbedding function dimension: 3072\nVector index dimension: 1536",
     "output_type": "error",
     "traceback": [
      "\u001B[0;31m---------------------------------------------------------------------------\u001B[0m",
      "\u001B[0;31mValueError\u001B[0m                                Traceback (most recent call last)",
      "Cell \u001B[0;32mIn[99], line 6\u001B[0m\n\u001B[1;32m      3\u001B[0m title \u001B[38;5;241m=\u001B[39m \u001B[38;5;124m'\u001B[39m\u001B[38;5;124mtitle\u001B[39m\u001B[38;5;124m'\u001B[39m\n\u001B[1;32m      5\u001B[0m embeddings2 \u001B[38;5;241m=\u001B[39m OpenAIEmbeddings(model\u001B[38;5;241m=\u001B[39m\u001B[38;5;124m'\u001B[39m\u001B[38;5;124mtext-embedding-3-large\u001B[39m\u001B[38;5;124m'\u001B[39m, headers\u001B[38;5;241m=\u001B[39m{\u001B[38;5;124m'\u001B[39m\u001B[38;5;124mx-api-key\u001B[39m\u001B[38;5;124m'\u001B[39m: OPENAI_API_KEY})\n\u001B[0;32m----> 6\u001B[0m vector_index \u001B[38;5;241m=\u001B[39m \u001B[43mNeo4jVector\u001B[49m\u001B[38;5;241;43m.\u001B[39;49m\u001B[43mfrom_existing_graph\u001B[49m\u001B[43m(\u001B[49m\n\u001B[1;32m      7\u001B[0m \u001B[43m    \u001B[49m\u001B[43membeddings2\u001B[49m\u001B[43m,\u001B[49m\n\u001B[1;32m      8\u001B[0m \u001B[43m    \u001B[49m\u001B[43murl\u001B[49m\u001B[38;5;241;43m=\u001B[39;49m\u001B[38;5;124;43m'\u001B[39;49m\u001B[38;5;124;43mbolt://localhost:7687\u001B[39;49m\u001B[38;5;124;43m'\u001B[39;49m\u001B[43m,\u001B[49m\n\u001B[1;32m      9\u001B[0m \u001B[43m    \u001B[49m\u001B[43musername\u001B[49m\u001B[38;5;241;43m=\u001B[39;49m\u001B[38;5;124;43m'\u001B[39;49m\u001B[38;5;124;43mneo4j\u001B[39;49m\u001B[38;5;124;43m'\u001B[39;49m\u001B[43m,\u001B[49m\n\u001B[1;32m     10\u001B[0m \u001B[43m    \u001B[49m\u001B[43mpassword\u001B[49m\u001B[38;5;241;43m=\u001B[39;49m\u001B[38;5;124;43m'\u001B[39;49m\u001B[38;5;124;43mneo4j1234\u001B[39;49m\u001B[38;5;124;43m'\u001B[39;49m\u001B[43m,\u001B[49m\n\u001B[1;32m     11\u001B[0m \u001B[43m    \u001B[49m\u001B[43mindex_name\u001B[49m\u001B[38;5;241;43m=\u001B[39;49m\u001B[38;5;124;43m'\u001B[39;49m\u001B[38;5;124;43mnode_text_index_title\u001B[39;49m\u001B[38;5;124;43m'\u001B[39;49m\u001B[43m,\u001B[49m\n\u001B[1;32m     12\u001B[0m \u001B[43m    \u001B[49m\u001B[43mnode_label\u001B[49m\u001B[38;5;241;43m=\u001B[39;49m\u001B[38;5;124;43m'\u001B[39;49m\u001B[38;5;124;43mTerm\u001B[39;49m\u001B[38;5;124;43m'\u001B[39;49m\u001B[43m,\u001B[49m\n\u001B[1;32m     13\u001B[0m \u001B[43m    \u001B[49m\u001B[43mtext_node_properties\u001B[49m\u001B[38;5;241;43m=\u001B[39;49m\u001B[43m[\u001B[49m\u001B[43mtitle\u001B[49m\u001B[43m]\u001B[49m\u001B[43m,\u001B[49m\n\u001B[1;32m     14\u001B[0m \u001B[43m    \u001B[49m\u001B[43membedding_node_property\u001B[49m\u001B[38;5;241;43m=\u001B[39;49m\u001B[38;5;124;43m'\u001B[39;49m\u001B[38;5;124;43membedding\u001B[39;49m\u001B[38;5;124;43m'\u001B[39;49m\u001B[43m,\u001B[49m\n\u001B[1;32m     15\u001B[0m \u001B[43m)\u001B[49m\n\u001B[1;32m     16\u001B[0m \u001B[38;5;28;01mfor\u001B[39;00m candidate \u001B[38;5;129;01min\u001B[39;00m candidates:\n\u001B[1;32m     17\u001B[0m     response \u001B[38;5;241m=\u001B[39m vector_index\u001B[38;5;241m.\u001B[39msimilarity_search(\n\u001B[1;32m     18\u001B[0m         \u001B[38;5;124mf\u001B[39m\u001B[38;5;124m\"\u001B[39m\u001B[38;5;124mWhich `Term` is nearest for `\u001B[39m\u001B[38;5;132;01m{\u001B[39;00mcandidate\u001B[38;5;132;01m}\u001B[39;00m\u001B[38;5;124m`?\u001B[39m\u001B[38;5;124m\"\u001B[39m\n\u001B[1;32m     19\u001B[0m     )\n",
      "File \u001B[0;32m~/Michael/PyCharmProjects/noosphere/.venv/lib/python3.12/site-packages/langchain_community/vectorstores/neo4j_vector.py:1495\u001B[0m, in \u001B[0;36mNeo4jVector.from_existing_graph\u001B[0;34m(cls, embedding, node_label, embedding_node_property, text_node_properties, keyword_index_name, index_name, search_type, retrieval_query, **kwargs)\u001B[0m\n\u001B[1;32m   1491\u001B[0m \u001B[38;5;66;03m# If the index already exists, check if embedding dimensions match\u001B[39;00m\n\u001B[1;32m   1492\u001B[0m \u001B[38;5;28;01melif\u001B[39;00m (\n\u001B[1;32m   1493\u001B[0m     embedding_dimension \u001B[38;5;129;01mand\u001B[39;00m \u001B[38;5;129;01mnot\u001B[39;00m store\u001B[38;5;241m.\u001B[39membedding_dimension \u001B[38;5;241m==\u001B[39m embedding_dimension\n\u001B[1;32m   1494\u001B[0m ):\n\u001B[0;32m-> 1495\u001B[0m     \u001B[38;5;28;01mraise\u001B[39;00m \u001B[38;5;167;01mValueError\u001B[39;00m(\n\u001B[1;32m   1496\u001B[0m         \u001B[38;5;124mf\u001B[39m\u001B[38;5;124m\"\u001B[39m\u001B[38;5;124mIndex with name \u001B[39m\u001B[38;5;132;01m{\u001B[39;00mstore\u001B[38;5;241m.\u001B[39mindex_name\u001B[38;5;132;01m}\u001B[39;00m\u001B[38;5;124m already exists.\u001B[39m\u001B[38;5;124m\"\u001B[39m\n\u001B[1;32m   1497\u001B[0m         \u001B[38;5;124m\"\u001B[39m\u001B[38;5;124mThe provided embedding function and vector index \u001B[39m\u001B[38;5;124m\"\u001B[39m\n\u001B[1;32m   1498\u001B[0m         \u001B[38;5;124m\"\u001B[39m\u001B[38;5;124mdimensions do not match.\u001B[39m\u001B[38;5;130;01m\\n\u001B[39;00m\u001B[38;5;124m\"\u001B[39m\n\u001B[1;32m   1499\u001B[0m         \u001B[38;5;124mf\u001B[39m\u001B[38;5;124m\"\u001B[39m\u001B[38;5;124mEmbedding function dimension: \u001B[39m\u001B[38;5;132;01m{\u001B[39;00mstore\u001B[38;5;241m.\u001B[39membedding_dimension\u001B[38;5;132;01m}\u001B[39;00m\u001B[38;5;130;01m\\n\u001B[39;00m\u001B[38;5;124m\"\u001B[39m\n\u001B[1;32m   1500\u001B[0m         \u001B[38;5;124mf\u001B[39m\u001B[38;5;124m\"\u001B[39m\u001B[38;5;124mVector index dimension: \u001B[39m\u001B[38;5;132;01m{\u001B[39;00membedding_dimension\u001B[38;5;132;01m}\u001B[39;00m\u001B[38;5;124m\"\u001B[39m\n\u001B[1;32m   1501\u001B[0m     )\n\u001B[1;32m   1502\u001B[0m \u001B[38;5;66;03m# FTS index for Hybrid search\u001B[39;00m\n\u001B[1;32m   1503\u001B[0m \u001B[38;5;28;01mif\u001B[39;00m search_type \u001B[38;5;241m==\u001B[39m SearchType\u001B[38;5;241m.\u001B[39mHYBRID:\n",
      "\u001B[0;31mValueError\u001B[0m: Index with name vector already exists.The provided embedding function and vector index dimensions do not match.\nEmbedding function dimension: 3072\nVector index dimension: 1536"
     ]
    }
   ],
   "execution_count": 99
  },
  {
   "metadata": {
    "ExecuteTime": {
     "end_time": "2024-10-25T13:54:45.364191Z",
     "start_time": "2024-10-25T13:54:45.362849Z"
    }
   },
   "cell_type": "code",
   "source": "",
   "id": "1eb869e0ce26f3aa",
   "outputs": [],
   "execution_count": null
  }
 ],
 "metadata": {
  "kernelspec": {
   "display_name": "Python 3 (ipykernel)",
   "language": "python",
   "name": "python3"
  },
  "language_info": {
   "codemirror_mode": {
    "name": "ipython",
    "version": 3
   },
   "file_extension": ".py",
   "mimetype": "text/x-python",
   "name": "python",
   "nbconvert_exporter": "python",
   "pygments_lexer": "ipython3",
   "version": "3.12.7"
  }
 },
 "nbformat": 4,
 "nbformat_minor": 5
}
