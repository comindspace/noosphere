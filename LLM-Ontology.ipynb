{
 "cells": [
  {
   "metadata": {},
   "cell_type": "code",
   "source": [
    "from nbformat.v1.nbjson import reads\n",
    "!poetry install -q"
   ],
   "id": "248d8ac9-910d-4188-b84c-beb2a12d845e",
   "outputs": [],
   "execution_count": null
  },
  {
   "metadata": {
    "ExecuteTime": {
     "end_time": "2024-11-07T15:04:27.281471Z",
     "start_time": "2024-11-07T15:04:27.270758Z"
    }
   },
   "cell_type": "code",
   "source": [
    "from dotenv import load_dotenv\n",
    "\n",
    "from configurations.chat_openai import *\n",
    "from configurations.cypher_chat_openai import *\n",
    "from configurations.default import *\n",
    "from configurations.neo4j import *\n",
    "from configurations.openai_embeddings import *\n",
    "\n",
    "load_dotenv()\n",
    "configurations = Configuration.load('configuration.yaml')\n",
    "\n",
    "default = DefaultConfiguration.grab(configurations, '')\n",
    "neo4j = Neo4jConfiguration.grab(configurations)\n",
    "chat_openai = ChatOpenAIConfiguration.grab(configurations)\n",
    "openai_embeddings = OpenAIEmbeddingsConfiguration.grab(configurations)\n",
    "cypher_chat_openai = CypherChatOpenAIConfiguration.grab(configurations)\n",
    "\n",
    "request = \"The manager of chatbot's project has been changed, now it's Ivan Petrov\"\n",
    "# request = 'Who is the manager of this chatbot project?'"
   ],
   "id": "a08e0e6f56b57ad4",
   "outputs": [],
   "execution_count": 22
  },
  {
   "metadata": {
    "ExecuteTime": {
     "end_time": "2024-11-07T15:04:37.862958Z",
     "start_time": "2024-11-07T15:04:36.839364Z"
    }
   },
   "cell_type": "code",
   "source": [
    "from langchain_openai import *\n",
    "from package.utilities import *\n",
    "from langchain.schema import HumanMessage, SystemMessage, AIMessage\n",
    "\n",
    "chat = ChatOpenAI(**chat_openai.dict())\n",
    "orchestrator_prompt = get_file_contents('orchestrator-prompt.txt')\n",
    "message = chat.invoke([\n",
    "    SystemMessage(content=orchestrator_prompt),\n",
    "    HumanMessage(content=request)\n",
    "])\n",
    "candidates = [candidate.lstrip('0123456789.- ').strip() for candidate in message.content.splitlines()]\n",
    "candidates"
   ],
   "id": "f42cb4fd513e5cfd",
   "outputs": [
    {
     "data": {
      "text/plain": [
       "['Manager', 'Chatbot', 'Project', 'Ivan Petrov']"
      ]
     },
     "execution_count": 23,
     "metadata": {},
     "output_type": "execute_result"
    }
   ],
   "execution_count": 23
  },
  {
   "metadata": {
    "ExecuteTime": {
     "end_time": "2024-11-07T15:04:41.859268Z",
     "start_time": "2024-11-07T15:04:41.017867Z"
    }
   },
   "cell_type": "code",
   "source": [
    "from langchain_openai import *\n",
    "from package.utilities import *\n",
    "from langchain.schema import HumanMessage, SystemMessage, AIMessage\n",
    "\n",
    "is_change = ChatOpenAI(**chat_openai.dict()).invoke([\n",
    "    SystemMessage(content=f\"\"\"\n",
    "    Determine whether the input request is a request to receive any information or to change and give only one of the 2 values: 'read' or 'change'.\n",
    "    \"\"\"),\n",
    "    HumanMessage(content=request)\n",
    "]).content.strip() == 'change'\n",
    "is_change"
   ],
   "id": "d20b64bbc6bb0da7",
   "outputs": [
    {
     "data": {
      "text/plain": [
       "True"
      ]
     },
     "execution_count": 24,
     "metadata": {},
     "output_type": "execute_result"
    }
   ],
   "execution_count": 24
  },
  {
   "metadata": {
    "ExecuteTime": {
     "end_time": "2024-11-07T15:04:57.851013Z",
     "start_time": "2024-11-07T15:04:49.295253Z"
    }
   },
   "cell_type": "code",
   "source": [
    "from langchain_community.graphs import Neo4jGraph\n",
    "from langchain_community.vectorstores import *\n",
    "from langchain_openai import OpenAIEmbeddings\n",
    "from neo4j import GraphDatabase\n",
    "\n",
    "graph = Neo4jGraph(**neo4j.dict())\n",
    "\n",
    "all_labels = [l['label'] for l in graph.query(\n",
    "    \"\"\"\n",
    "    MATCH (l)\n",
    "    UNWIND labels(l) AS label\n",
    "    RETURN DISTINCT label\n",
    "    \"\"\")]\n",
    "print('All Neo4j node labels', all_labels)\n",
    "\n",
    "similarity_labels: list[str] = []\n",
    "if len(all_labels) > 0:\n",
    "    retriever = FAISS.from_texts(all_labels, OpenAIEmbeddings(**openai_embeddings.dict())).as_retriever()\n",
    "    similarity_labels = list(set([retriever.invoke(candidate)[0].page_content for candidate in candidates]))\n",
    "print('Similarity labels from request', similarity_labels)\n",
    "\n",
    "name = 'name'\n",
    "title = 'title'\n",
    "\n",
    "set_instances: set[str] = set()\n",
    "graph_database = {'uri': 'bolt://localhost:7687', 'auth': ('neo4j', 'neo4j1234')}\n",
    "with GraphDatabase.driver(**graph_database) as driver:\n",
    "    for similarity_label in similarity_labels:\n",
    "        index_name = f\"{similarity_label.lower()}_index\"\n",
    "        driver.execute_query(f\"DROP INDEX {index_name} IF EXISTS\")\n",
    "        store = Neo4jVector.from_existing_graph(\n",
    "            OpenAIEmbeddings(**openai_embeddings.dict()),\n",
    "            **neo4j.dict(),\n",
    "            index_name=index_name,\n",
    "            node_label=similarity_label,\n",
    "            text_node_properties=[name, title],\n",
    "            embedding_node_property='embedding',\n",
    "        )\n",
    "        for candidate in candidates:\n",
    "            response = store.similarity_search(candidate, k=1)\n",
    "            for string in process_response(response, name, title):\n",
    "                set_instances.add(string)\n",
    "            # print(candidate, similarity_label, '->', list(process_response(response, name, title))[0])\n",
    "similarity_words = list(set_instances) + similarity_labels\n",
    "similarity_words"
   ],
   "id": "50121829f664a6b4",
   "outputs": [
    {
     "name": "stdout",
     "output_type": "stream",
     "text": [
      "All Neo4j node labels ['Company', 'Person', 'Employee', 'Manager', 'Team', 'Project']\n",
      "Similarity labels from request ['Manager', 'Project']\n"
     ]
    },
    {
     "data": {
      "text/plain": [
       "['Calculator',\n",
       " 'Brain Relaxer',\n",
       " 'Karen Ross',\n",
       " 'Robert Brooks',\n",
       " 'Image Player',\n",
       " 'Ivan Petrov',\n",
       " 'Chat-bot',\n",
       " 'Manager',\n",
       " 'Project']"
      ]
     },
     "execution_count": 25,
     "metadata": {},
     "output_type": "execute_result"
    }
   ],
   "execution_count": 25
  },
  {
   "metadata": {
    "ExecuteTime": {
     "end_time": "2024-11-07T15:06:46.321055Z",
     "start_time": "2024-11-07T15:06:44.084061Z"
    }
   },
   "cell_type": "code",
   "source": [
    "from langchain_core.prompts import PromptTemplate\n",
    "from langchain_community.graphs import Neo4jGraph\n",
    "from langchain_community.chains.graph_qa.cypher import GraphCypherQAChain\n",
    "\n",
    "graph = Neo4jGraph(**neo4j.dict())\n",
    "response = dict()\n",
    "\n",
    "is_change = False\n",
    "print(is_change)\n",
    "if is_change:\n",
    "    CYPHER_GENERATION_TEMPLATE = f\"\"\"Task:Generate Cypher statement to query a graph database.\n",
    "    Instructions:\n",
    "    Use only the provided relationship types and properties in the schema.\n",
    "    Do not use any other relationship types or properties that are not provided.\n",
    "    Use only similarity words from this list: {similarity_words}\n",
    "    Schema:\n",
    "    {{schema}}\n",
    "    Note: Do not include any explanations or apologies in your responses.\n",
    "    Do not respond to any questions that might ask anything else than for you to construct a Cypher statement.\n",
    "    Do not include any text except the generated Cypher statement.\n",
    "    \n",
    "    The question is:\n",
    "    {{question}}\"\"\"\n",
    "    \n",
    "    CYPHER_GENERATION_PROMPT = PromptTemplate(input_variables=['schema', 'question'], validate_template=True, template=CYPHER_GENERATION_TEMPLATE)\n",
    "    \n",
    "    chain = GraphCypherQAChain.from_llm(\n",
    "        ChatOpenAI(**cypher_chat_openai.dict()),\n",
    "        cypher_prompt=CYPHER_GENERATION_PROMPT,\n",
    "        graph=graph,\n",
    "        verbose=True,\n",
    "        allow_dangerous_requests=True,\n",
    "    )\n",
    "    # embeddings4o = ChatOpenAI(model=default.chat_openai_model, openai_api_key=OPENAI_API_KEY, temperature=0)\n",
    "    # vector_store = Neo4jVector(embeddings=embeddings4o, graph=graph)\n",
    "    # llm = ChatOpenAI(model='gpt-4o', temperature=0, openai_api_key=OPENAI_API_KEY)\n",
    "    # chain1 = GraphCypherQAChain.from_llm(vector_store=vector_index, llm=llm, verbose=True)\n",
    "    \n",
    "    response = chain.invoke({\"query\": request})\n",
    "    # response = chain.invoke({\"query\": \"Appoint Ivan Petrov as chatbot project manager\"})\n",
    "    # response = chain.invoke({\"query\": \"Remove all relations\"})\n",
    "    # response = chain.invoke({\"query\": \"Set relation: term with name manager can works in term with name department\"})\n",
    "else:\n",
    "    CYPHER_GENERATION_TEMPLATE = f\"\"\"Task:Generate Cypher statement to query a graph database.\n",
    "    Instructions:\n",
    "    Generate query just to get information, not changes.\n",
    "    Use only the provided relationship types and properties in the schema.\n",
    "    Do not use any other relationship types or properties that are not provided.\n",
    "    Use only similarity words from this list: {similarity_words}\n",
    "    Schema:\n",
    "    {{schema}}\n",
    "    Note: Do not include any explanations or apologies in your responses.\n",
    "    Do not respond to any questions that might ask anything else than for you to construct a Cypher statement.\n",
    "    Do not include any text except the generated Cypher statement.\n",
    "    \n",
    "    The question is:\n",
    "    {{question}}\"\"\"\n",
    "\n",
    "    CYPHER_GENERATION_PROMPT = PromptTemplate(input_variables=['schema', 'question'], validate_template=True, template=CYPHER_GENERATION_TEMPLATE)\n",
    "\n",
    "    chain = GraphCypherQAChain.from_llm(\n",
    "        ChatOpenAI(**cypher_chat_openai.dict()),\n",
    "        cypher_prompt=CYPHER_GENERATION_PROMPT,\n",
    "        graph=graph,\n",
    "        verbose=True,\n",
    "        allow_dangerous_requests=True,\n",
    "    )\n",
    "    response = chain.invoke({\"query\": request})\n",
    "response"
   ],
   "id": "a5990923278410d3",
   "outputs": [
    {
     "name": "stdout",
     "output_type": "stream",
     "text": [
      "False\n",
      "\n",
      "\n",
      "\u001B[1m> Entering new GraphCypherQAChain chain...\u001B[0m\n",
      "Generated Cypher:\n",
      "\u001B[32;1m\u001B[1;3mcypher\n",
      "MATCH (m:Manager)-[:MANAGES]->(p:Project {title: 'Chat-bot'})\n",
      "RETURN m.name, p.title\n",
      "\u001B[0m\n",
      "Full Context:\n",
      "\u001B[32;1m\u001B[1;3m[{'m.name': 'Ivan Petrov', 'p.title': 'Chat-bot'}]\u001B[0m\n",
      "\n",
      "\u001B[1m> Finished chain.\u001B[0m\n"
     ]
    },
    {
     "data": {
      "text/plain": [
       "{'query': \"The manager of chatbot's project has been changed, now it's Ivan Petrov\",\n",
       " 'result': \"Ivan Petrov is now the manager of the chatbot's project.\"}"
      ]
     },
     "execution_count": 27,
     "metadata": {},
     "output_type": "execute_result"
    }
   ],
   "execution_count": 27
  },
  {
   "metadata": {},
   "cell_type": "code",
   "source": [
    "from uuid import uuid4\n",
    "from peewee import *\n",
    "\n",
    "db = SqliteDatabase('database.sqlite')\n",
    "\n",
    "class BaseModel(Model):\n",
    "    class Meta:\n",
    "        database = db\n",
    "        legacy_table_names = False\n",
    "\n",
    "class Entity(BaseModel):\n",
    "    id = UUIDField(primary_key=True, default=uuid4)\n",
    "    type = CharField()  # entity title from Neo4j\n",
    "    title = CharField()\n",
    "\n",
    "class Relation(BaseModel):\n",
    "    from_ = ForeignKeyField(Entity, backref='relations', db_column='from')\n",
    "    to = ForeignKeyField(Entity, backref='relations', db_column='to')\n",
    "    type = CharField()  # relation name from §\n",
    "\n",
    "    class Meta:\n",
    "        primary_key = CompositeKey('from_', 'to', 'type')\n",
    "\n",
    "db.connect(True)\n",
    "db.create_tables([Entity, Relation])\n",
    "Entity.create_table()\n",
    "# a = Entity.select().count()\n",
    "# print(a)    "
   ],
   "id": "1eb869e0ce26f3aa",
   "outputs": [],
   "execution_count": null
  },
  {
   "metadata": {},
   "cell_type": "code",
   "source": [
    "# Entity.create(title='New one', type='3db3c5bc-5431-425c-ae2a-00e4603a4578')\n",
    "# Entity.create(title='Old two', type='4db3c5bc-5431-425c-ae2a-00e4603a4578')\n",
    "# Relation.create(from_='3db3c5bc-5431-425c-ae2a-00e4603a4578', to='4db3c5bc-5431-425c-ae2a-00e4603a4578', type='Friend')\n",
    "# Relation.create(from_='4db3c5bc-5431-425c-ae2a-00e4603a4578', to='4db3c5bc-5431-425c-ae2a-00e4603a4578', type='Friend')"
   ],
   "id": "1e4c8216376fca4e",
   "outputs": [],
   "execution_count": null
  },
  {
   "metadata": {},
   "cell_type": "code",
   "source": [
    "from package.table_generator import *\n",
    "\n",
    "attach_table_generator(db)\n",
    "\n",
    "dataFoo = db.generate_table(Entity, 'foo2', {'new_field': CharField()})\n",
    "# dataBar = db.generate_table(Relation, 'bar2')"
   ],
   "id": "949295afcae0846e",
   "outputs": [],
   "execution_count": null
  }
 ],
 "metadata": {
  "kernelspec": {
   "display_name": "Python 3 (ipykernel)",
   "language": "python",
   "name": "python3"
  },
  "language_info": {
   "codemirror_mode": {
    "name": "ipython",
    "version": 3
   },
   "file_extension": ".py",
   "mimetype": "text/x-python",
   "name": "python",
   "nbconvert_exporter": "python",
   "pygments_lexer": "ipython3",
   "version": "3.12.7"
  }
 },
 "nbformat": 4,
 "nbformat_minor": 5
}
