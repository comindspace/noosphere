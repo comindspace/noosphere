{
 "cells": [
  {
   "metadata": {},
   "cell_type": "code",
   "source": [
    "import sys\n",
    "from itertools import chain\n",
    "\n",
    "sys.api_version\n",
    "!{sys.executable} -m pip install -qUr requirements.txt"
   ],
   "id": "248d8ac9-910d-4188-b84c-beb2a12d845e",
   "outputs": [],
   "execution_count": null
  },
  {
   "cell_type": "code",
   "id": "ae357d85-58c2-4a60-899a-2322d372e4d8",
   "metadata": {},
   "source": [
    "\n",
    "from langchain_openai import ChatOpenAI, OpenAI\n",
    "from langchain.schema import HumanMessage, SystemMessage, AIMessage\n",
    "from langchain_openai import OpenAIEmbeddings\n",
    "from package import OPENAI_API_KEY, set_environment_openai_api_key\n",
    "from package.utilities import get_file_contents\n",
    "set_environment_openai_api_key()\n",
    "\n",
    "chat = ChatOpenAI(model='gpt-4o', openai_api_key=OPENAI_API_KEY)\n",
    "orchestrator_prompt = get_file_contents('orchestrator-prompt.txt')\n",
    "entities = get_file_contents('entities.txt').splitlines()"
   ],
   "outputs": [],
   "execution_count": null
  },
  {
   "cell_type": "code",
   "id": "f42cb4fd513e5cfd",
   "metadata": {},
   "source": [
    "aiMessage: AIMessage = chat.invoke([\n",
    "    SystemMessage(content=orchestrator_prompt),\n",
    "    HumanMessage(content=\"На проекте по чат-боту сменился менеджер, теперь это Иван Петров\")\n",
    "])\n",
    "candidates = [candidate.lstrip('0123456789.- ') for candidate in aiMessage.content.splitlines()]\n",
    "print(candidates)"
   ],
   "outputs": [],
   "execution_count": null
  },
  {
   "cell_type": "code",
   "id": "efaff76069552158",
   "metadata": {},
   "source": [
    "from langchain_community.vectorstores import FAISS\n",
    "\n",
    "embeddings = OpenAIEmbeddings(model=\"text-embedding-ada-002\", headers={\"x-api-key\": OPENAI_API_KEY})\n",
    "retriever = FAISS.from_texts(entities, embeddings).as_retriever()\n",
    "for candidate in candidates:\n",
    "    print(candidate, ' -> ', retriever.invoke(candidate)[0].page_content)"
   ],
   "outputs": [],
   "execution_count": null
  }
 ],
 "metadata": {
  "kernelspec": {
   "display_name": "Python 3 (ipykernel)",
   "language": "python",
   "name": "python3"
  },
  "language_info": {
   "codemirror_mode": {
    "name": "ipython",
    "version": 3
   },
   "file_extension": ".py",
   "mimetype": "text/x-python",
   "name": "python",
   "nbconvert_exporter": "python",
   "pygments_lexer": "ipython3",
   "version": "3.12.7"
  }
 },
 "nbformat": 4,
 "nbformat_minor": 5
}
