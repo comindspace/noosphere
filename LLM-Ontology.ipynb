{
 "cells": [
  {
   "metadata": {
    "ExecuteTime": {
     "end_time": "2024-10-25T12:11:15.748132Z",
     "start_time": "2024-10-25T12:11:14.538557Z"
    }
   },
   "cell_type": "code",
   "source": [
    "import sys\n",
    "sys.api_version\n",
    "!{sys.executable} -m pip install -qUr requirements.txt"
   ],
   "id": "248d8ac9-910d-4188-b84c-beb2a12d845e",
   "outputs": [],
   "execution_count": 13
  },
  {
   "metadata": {
    "ExecuteTime": {
     "end_time": "2024-10-25T12:11:15.766188Z",
     "start_time": "2024-10-25T12:11:15.751879Z"
    }
   },
   "cell_type": "code",
   "source": [
    "from langchain_openai import ChatOpenAI\n",
    "from langchain.schema import HumanMessage, SystemMessage, AIMessage\n",
    "from langchain_openai import OpenAIEmbeddings\n",
    "from package import OPENAI_API_KEY, set_environment_openai_api_key\n",
    "from package.utilities import get_file_contents\n",
    "set_environment_openai_api_key()\n",
    "\n",
    "chat = ChatOpenAI(model='gpt-4o', openai_api_key=OPENAI_API_KEY)\n",
    "orchestrator_prompt = get_file_contents('orchestrator-prompt.txt')\n",
    "entities = get_file_contents('entities.txt').splitlines()"
   ],
   "id": "ae357d85-58c2-4a60-899a-2322d372e4d8",
   "outputs": [],
   "execution_count": 14
  },
  {
   "cell_type": "code",
   "id": "f42cb4fd513e5cfd",
   "metadata": {
    "ExecuteTime": {
     "end_time": "2024-10-25T12:11:24.961579Z",
     "start_time": "2024-10-25T12:11:15.771942Z"
    }
   },
   "source": [
    "aiMessage: AIMessage = chat.invoke([\n",
    "    SystemMessage(content=orchestrator_prompt),\n",
    "    HumanMessage(content=\"The manager of chat-bot project has been changed, now it's Ivan Petrov\")\n",
    "])\n",
    "candidates = [candidate.lstrip('0123456789.- ') for candidate in aiMessage.content.splitlines()]\n",
    "print(candidates)"
   ],
   "outputs": [
    {
     "name": "stdout",
     "output_type": "stream",
     "text": [
      "['manager', 'chat-bot project', 'Ivan Petrov']\n"
     ]
    }
   ],
   "execution_count": 15
  },
  {
   "cell_type": "code",
   "id": "efaff76069552158",
   "metadata": {
    "ExecuteTime": {
     "end_time": "2024-10-25T12:11:27.715858Z",
     "start_time": "2024-10-25T12:11:25.028241Z"
    }
   },
   "source": [
    "from langchain_community.vectorstores import FAISS\n",
    "\n",
    "embeddings = OpenAIEmbeddings(model=\"text-embedding-ada-002\", headers={\"x-api-key\": OPENAI_API_KEY})\n",
    "retriever = FAISS.from_texts(entities, embeddings).as_retriever()\n",
    "for candidate in candidates:\n",
    "    print(candidate, ' -> ', retriever.invoke(candidate)[0].page_content)"
   ],
   "outputs": [
    {
     "name": "stdout",
     "output_type": "stream",
     "text": [
      "manager  ->  director\n",
      "chat-bot project  ->  bot program\n",
      "Ivan Petrov  ->  person name\n"
     ]
    }
   ],
   "execution_count": 16
  }
 ],
 "metadata": {
  "kernelspec": {
   "display_name": "Python 3 (ipykernel)",
   "language": "python",
   "name": "python3"
  },
  "language_info": {
   "codemirror_mode": {
    "name": "ipython",
    "version": 3
   },
   "file_extension": ".py",
   "mimetype": "text/x-python",
   "name": "python",
   "nbconvert_exporter": "python",
   "pygments_lexer": "ipython3",
   "version": "3.12.7"
  }
 },
 "nbformat": 4,
 "nbformat_minor": 5
}
