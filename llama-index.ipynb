{
 "cells": [
  {
   "cell_type": "code",
   "id": "initial_id",
   "metadata": {
    "collapsed": true,
    "ExecuteTime": {
     "end_time": "2024-11-18T10:58:14.228002Z",
     "start_time": "2024-11-18T10:58:11.647585Z"
    }
   },
   "source": "!poetry update -q",
   "outputs": [],
   "execution_count": 4
  },
  {
   "metadata": {
    "ExecuteTime": {
     "end_time": "2024-11-18T10:58:14.266601Z",
     "start_time": "2024-11-18T10:58:14.238485Z"
    }
   },
   "cell_type": "code",
   "source": [
    "import nest_asyncio\n",
    "from dotenv import load_dotenv\n",
    "\n",
    "from configurations.neo4j import *\n",
    "\n",
    "nest_asyncio.apply()\n",
    "load_dotenv()\n",
    "configurations = Configuration.load('configuration.yaml')\n",
    "neo4j = Neo4jConfiguration.grab(configurations)"
   ],
   "id": "1a3f578ffdb20980",
   "outputs": [],
   "execution_count": 5
  },
  {
   "metadata": {
    "ExecuteTime": {
     "end_time": "2024-11-18T10:58:14.302753Z",
     "start_time": "2024-11-18T10:58:14.270297Z"
    }
   },
   "cell_type": "code",
   "source": [
    "import pyarrow.parquet as pq\n",
    "from llama_index.core import Document\n",
    "\n",
    "train = 'frames-benchmark/train-00000-of-00001.parquet'\n",
    "table = pq.read_table(train, memory_map=True)\n",
    "documents = [Document(text=cell.as_py()) for cell in table[4][:2]]\n",
    "# strings = [string.as_py() for string in table[4]]\n",
    "len(documents)"
   ],
   "id": "533ecf9375dd9375",
   "outputs": [
    {
     "data": {
      "text/plain": [
       "2"
      ]
     },
     "execution_count": 6,
     "metadata": {},
     "output_type": "execute_result"
    }
   ],
   "execution_count": 6
  },
  {
   "metadata": {
    "ExecuteTime": {
     "end_time": "2024-11-18T10:58:14.417127Z",
     "start_time": "2024-11-18T10:58:14.362094Z"
    }
   },
   "cell_type": "code",
   "source": [
    "from llama_index.graph_stores.neo4j import Neo4jPropertyGraphStore\n",
    "\n",
    "graph_store = Neo4jPropertyGraphStore(**neo4j.dict())"
   ],
   "id": "ffe70e72d6073177",
   "outputs": [],
   "execution_count": 7
  },
  {
   "metadata": {
    "ExecuteTime": {
     "end_time": "2024-11-18T11:08:21.056234Z",
     "start_time": "2024-11-18T11:06:59.031401Z"
    }
   },
   "cell_type": "code",
   "source": [
    "from llama_index.core import PropertyGraphIndex\n",
    "from llama_index.embeddings.openai import OpenAIEmbedding\n",
    "from llama_index.llms.openai import OpenAI\n",
    "from llama_index.core.indices.property_graph import DynamicLLMPathExtractor\n",
    "\n",
    "index = PropertyGraphIndex.from_documents(\n",
    "    documents,\n",
    "    embed_model=OpenAIEmbedding(model_name=\"text-embedding-3-small\"),\n",
    "    kg_extractors=[\n",
    "        DynamicLLMPathExtractor(\n",
    "            llm=OpenAI(model=\"gpt-4o\", temperature=0.0),\n",
    "            num_workers=4\n",
    "        )\n",
    "    ],\n",
    "    property_graph_store=graph_store,\n",
    "    show_progress=True,\n",
    ")"
   ],
   "id": "ada8cf87c52e59a8",
   "outputs": [
    {
     "name": "stderr",
     "output_type": "stream",
     "text": [
      "Parsing nodes: 100%|██████████| 2/2 [00:00<00:00, 55.11it/s]\n",
      "Extracting and inferring knowledge graph from text: 100%|██████████| 32/32 [01:03<00:00,  1.98s/it]\n",
      "Generating embeddings: 100%|██████████| 1/1 [00:01<00:00,  1.63s/it]\n",
      "Generating embeddings: 100%|██████████| 7/7 [00:02<00:00,  2.93it/s]\n"
     ]
    }
   ],
   "execution_count": 12
  },
  {
   "metadata": {
    "ExecuteTime": {
     "end_time": "2024-11-18T10:59:31.647861Z",
     "start_time": "2024-11-18T10:59:30.237943Z"
    }
   },
   "cell_type": "code",
   "source": [
    "retriever = index.as_retriever(\n",
    "    include_text=False,  # include source text in returned nodes, default True\n",
    ")\n",
    "\n",
    "nodes = retriever.retrieve(\"What happened at Interleaf and Viaweb?\")\n",
    "\n",
    "for node in nodes:\n",
    "    print(node.text)"
   ],
   "id": "ebef3146f643086",
   "outputs": [
    {
     "name": "stdout",
     "output_type": "stream",
     "text": [
      "Buchanan -> WORKED_ON -> Covode Committee investigation\n",
      "Herbert Hoover -> WORKED_ON -> government reorganization after World War II\n",
      "George W. Bush -> WORKED_ON -> humanitarian efforts after the 2004 Indian Ocean earthquake and tsunami\n",
      "Buchanan -> WORKED_ON -> trade agreements with the Qing Dynasty and Japan\n"
     ]
    }
   ],
   "execution_count": 9
  },
  {
   "metadata": {
    "ExecuteTime": {
     "end_time": "2024-11-18T10:59:33.734693Z",
     "start_time": "2024-11-18T10:59:31.660258Z"
    }
   },
   "cell_type": "code",
   "source": [
    "query_engine = index.as_query_engine(include_text=True)\n",
    "\n",
    "response = query_engine.query(\"What happened at Interleaf and Viaweb?\")\n",
    "\n",
    "print(str(response))"
   ],
   "id": "c2a8d86b026a547e",
   "outputs": [
    {
     "name": "stdout",
     "output_type": "stream",
     "text": [
      "Interleaf was acquired by BroadVision in 2000, while Viaweb was acquired by Yahoo in 1998.\n"
     ]
    }
   ],
   "execution_count": 10
  }
 ],
 "metadata": {
  "kernelspec": {
   "display_name": "Python 3",
   "language": "python",
   "name": "python3"
  },
  "language_info": {
   "codemirror_mode": {
    "name": "ipython",
    "version": 2
   },
   "file_extension": ".py",
   "mimetype": "text/x-python",
   "name": "python",
   "nbconvert_exporter": "python",
   "pygments_lexer": "ipython2",
   "version": "2.7.6"
  }
 },
 "nbformat": 4,
 "nbformat_minor": 5
}
