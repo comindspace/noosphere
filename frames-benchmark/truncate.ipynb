{
 "cells": [
  {
   "cell_type": "code",
   "id": "initial_id",
   "metadata": {
    "collapsed": true,
    "ExecuteTime": {
     "end_time": "2024-11-20T05:13:53.276721Z",
     "start_time": "2024-11-20T05:13:45.246954Z"
    }
   },
   "source": [
    "!poetry update -q\n",
    "\n",
    "import os\n",
    "import sys\n",
    "\n",
    "project_path = os.path.abspath('..')\n",
    "if project_path not in sys.path:\n",
    "    sys.path.insert(0, project_path)"
   ],
   "outputs": [],
   "execution_count": 3
  },
  {
   "metadata": {
    "ExecuteTime": {
     "end_time": "2024-11-20T05:13:55.789443Z",
     "start_time": "2024-11-20T05:13:55.144073Z"
    }
   },
   "cell_type": "code",
   "source": [
    "from configurations.configuration import Configuration\n",
    "from configurations.chat_openai import ChatOpenAIConfiguration\n",
    "from configurations.cypher_chat_openai import CypherChatOpenAIConfiguration\n",
    "from configurations.neo4j import Neo4jConfiguration\n",
    "from configurations.openai_embeddings import OpenAIEmbeddingsConfiguration\n",
    "\n",
    "configurations = Configuration.load('../configuration.yaml')\n",
    "neo4j = Neo4jConfiguration.grab(configurations)\n",
    "chat_openai = ChatOpenAIConfiguration.grab(configurations)\n",
    "openai_embeddings = OpenAIEmbeddingsConfiguration.grab(configurations)\n",
    "cypher_chat_openai = CypherChatOpenAIConfiguration.grab(configurations)"
   ],
   "id": "fd50c2532173ea7b",
   "outputs": [],
   "execution_count": 4
  },
  {
   "metadata": {
    "ExecuteTime": {
     "end_time": "2024-11-20T05:15:31.222054Z",
     "start_time": "2024-11-20T05:15:31.005886Z"
    }
   },
   "cell_type": "code",
   "source": [
    "from neo4j import GraphDatabase\n",
    "\n",
    "graph_database = {'uri': neo4j.url, 'auth': (neo4j.username, neo4j.password)}\n",
    "with GraphDatabase.driver(**graph_database) as driver:\n",
    "    driver.execute_query(\"CALL apoc.schema.assert(null, null);\")\n",
    "    driver.execute_query(\"MATCH (n) DETACH DELETE n;\")"
   ],
   "id": "2f016b8fc47a4ce8",
   "outputs": [],
   "execution_count": 11
  }
 ],
 "metadata": {
  "kernelspec": {
   "display_name": "Python 3",
   "language": "python",
   "name": "python3"
  },
  "language_info": {
   "codemirror_mode": {
    "name": "ipython",
    "version": 2
   },
   "file_extension": ".py",
   "mimetype": "text/x-python",
   "name": "python",
   "nbconvert_exporter": "python",
   "pygments_lexer": "ipython2",
   "version": "2.7.6"
  }
 },
 "nbformat": 4,
 "nbformat_minor": 5
}
